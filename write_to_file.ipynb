{
 "cells": [
  {
   "cell_type": "code",
   "execution_count": 1,
   "metadata": {
    "collapsed": true
   },
   "outputs": [],
   "source": [
    "import numpy as np\n",
    "import pandas as pd\n",
    "import codecs\n",
    "import re"
   ]
  },
  {
   "cell_type": "code",
   "execution_count": 24,
   "metadata": {
    "collapsed": false
   },
   "outputs": [],
   "source": [
    "fname = 'tweets.txt'\n",
    "\n",
    "def get_list_of_tweets(fname):\n",
    "    with codecs.open(fname, \"r\",encoding='utf-8', errors='ignore') as fdata:\n",
    "        tweets = []\n",
    "        content = fdata.readlines()\n",
    "        tweetline = \"\"\n",
    "        for line in content:\n",
    "            if line[:2] == 'RT':\n",
    "                if tweetline:\n",
    "                    tweets.append(tweetline[2:])\n",
    "                tweetline = line\n",
    "            else:\n",
    "                tweetline = tweetline + line\n",
    "        if tweetline:\n",
    "            tweets.append(tweetline[2:])\n",
    "    return tweets\n",
    "\n",
    "tweets = get_list_of_tweets(fname)\n",
    "tweets = [re.sub(r\"http\\S+\", \"\", tweet).rstrip().replace('\\n', ' ').replace('\\r', '') for tweet in tweets]"
   ]
  },
  {
   "cell_type": "code",
   "execution_count": 25,
   "metadata": {
    "collapsed": true
   },
   "outputs": [],
   "source": [
    "df = pd.DataFrame()\n",
    "df[\"tweets\"] = np.array(tweets)"
   ]
  },
  {
   "cell_type": "code",
   "execution_count": 11,
   "metadata": {
    "collapsed": false
   },
   "outputs": [],
   "source": [
    "def get_label(string):\n",
    "    return int(string[-1])"
   ]
  },
  {
   "cell_type": "code",
   "execution_count": 41,
   "metadata": {
    "collapsed": false,
    "scrolled": true
   },
   "outputs": [],
   "source": [
    "file = 'fastText/file_output/tweet.test.predict'\n",
    "\n",
    "def parse_file(file):\n",
    "    pos_tweets = []\n",
    "    pos_rank = []\n",
    "    neg_tweets = []\n",
    "    neg_rank = []\n",
    "    with codecs.open(file, \"r\",encoding='utf-8', errors='ignore') as fdata:\n",
    "            content = fdata.readlines()\n",
    "            index = 0\n",
    "            for line in content:\n",
    "                label, rank = line.split()\n",
    "                label = get_label(label)\n",
    "                if label == 1:\n",
    "                    pos_tweets.append(tweets[index])\n",
    "                    pos_rank.append(rank)\n",
    "                elif label == 0:\n",
    "                    neg_tweets.append(tweets[index])\n",
    "                    neg_rank.append(rank)\n",
    "                index += 1\n",
    "    pos_tweets = np.array(pos_tweets)\n",
    "    pos_rank = np.array(pos_rank)\n",
    "    neg_tweets = np.array(neg_tweets)\n",
    "    neg_rank = np.array(neg_rank)\n",
    "    neg = pd.DataFrame()\n",
    "    neg['tweet'] = neg_tweets\n",
    "    neg['rank'] = neg_rank\n",
    "    pos = pd.DataFrame()\n",
    "    pos['tweet'] = pos_tweets\n",
    "    pos['rank'] = pos_rank\n",
    "    return pos, neg"
   ]
  },
  {
   "cell_type": "code",
   "execution_count": 45,
   "metadata": {
    "collapsed": false
   },
   "outputs": [],
   "source": [
    "p, n = parse_file(file)"
   ]
  },
  {
   "cell_type": "code",
   "execution_count": 46,
   "metadata": {
    "collapsed": false
   },
   "outputs": [
    {
     "name": "stderr",
     "output_type": "stream",
     "text": [
      "/opt/conda/lib/python3.5/site-packages/ipykernel/__main__.py:1: FutureWarning: sort(columns=....) is deprecated, use sort_values(by=.....)\n",
      "  if __name__ == '__main__':\n"
     ]
    }
   ],
   "source": [
    "positive = p.sort('rank', ascending=False).reset_index()[['tweet', 'rank']]"
   ]
  },
  {
   "cell_type": "code",
   "execution_count": 47,
   "metadata": {
    "collapsed": false
   },
   "outputs": [
    {
     "name": "stderr",
     "output_type": "stream",
     "text": [
      "/opt/conda/lib/python3.5/site-packages/ipykernel/__main__.py:1: FutureWarning: sort(columns=....) is deprecated, use sort_values(by=.....)\n",
      "  if __name__ == '__main__':\n"
     ]
    }
   ],
   "source": [
    "negative = n.sort('rank', ascending=False).reset_index()[['tweet', 'rank']]"
   ]
  },
  {
   "cell_type": "code",
   "execution_count": 49,
   "metadata": {
    "collapsed": false
   },
   "outputs": [],
   "source": [
    "with codecs.open('positive.txt', \"w\",encoding='utf-8', errors='ignore') as fdata:\n",
    "    fdata.write(positive.to_string(index=False))"
   ]
  },
  {
   "cell_type": "code",
   "execution_count": 50,
   "metadata": {
    "collapsed": true
   },
   "outputs": [],
   "source": [
    "with codecs.open('negative.txt', \"w\",encoding='utf-8', errors='ignore') as fdata:\n",
    "    fdata.write(negative.to_string(index=False))"
   ]
  },
  {
   "cell_type": "code",
   "execution_count": null,
   "metadata": {
    "collapsed": true
   },
   "outputs": [],
   "source": []
  }
 ],
 "metadata": {
  "kernelspec": {
   "display_name": "Python 3",
   "language": "python",
   "name": "python3"
  },
  "language_info": {
   "codemirror_mode": {
    "name": "ipython",
    "version": 3
   },
   "file_extension": ".py",
   "mimetype": "text/x-python",
   "name": "python",
   "nbconvert_exporter": "python",
   "pygments_lexer": "ipython3",
   "version": "3.5.2"
  }
 },
 "nbformat": 4,
 "nbformat_minor": 0
}
