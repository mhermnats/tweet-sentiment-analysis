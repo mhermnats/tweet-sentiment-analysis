{
 "cells": [
  {
   "cell_type": "code",
   "execution_count": 36,
   "metadata": {
    "collapsed": true
   },
   "outputs": [],
   "source": [
    "import numpy as np\n",
    "import pandas as pd\n",
    "import codecs\n",
    "import re"
   ]
  },
  {
   "cell_type": "code",
   "execution_count": 37,
   "metadata": {
    "collapsed": true
   },
   "outputs": [],
   "source": [
    "fname = 'tweets.txt'\n",
    "\n",
    "def get_list_of_tweets(fname):\n",
    "    with codecs.open(fname, \"r\",encoding='utf-8', errors='ignore') as fdata:\n",
    "        tweets = []\n",
    "        content = fdata.readlines()\n",
    "        tweetline = \"\"\n",
    "        for line in content:\n",
    "            if line[:2] == 'RT':\n",
    "                if tweetline:\n",
    "                    tweets.append(tweetline[2:])\n",
    "                tweetline = line\n",
    "            else:\n",
    "                tweetline = tweetline + line\n",
    "        if tweetline:\n",
    "            tweets.append(tweetline[2:])\n",
    "    return tweets\n",
    "\n",
    "tweets = get_list_of_tweets(fname)\n",
    "tweets = [re.sub(r\"http\\S+\", \"\", tweet).rstrip() for tweet in tweets]"
   ]
  },
  {
   "cell_type": "code",
   "execution_count": 38,
   "metadata": {
    "collapsed": true
   },
   "outputs": [],
   "source": [
    "df = pd.DataFrame()\n",
    "df['labels'] = np.array([0 for i in range(len(tweets))])\n",
    "df[\"tweets\"] = np.array(tweets)"
   ]
  },
  {
   "cell_type": "code",
   "execution_count": 39,
   "metadata": {
    "collapsed": false,
    "scrolled": true
   },
   "outputs": [],
   "source": [
    "df.to_csv('fastText/data/test-tweets.csv', header=False, index = False)"
   ]
  },
  {
   "cell_type": "code",
   "execution_count": null,
   "metadata": {
    "collapsed": true
   },
   "outputs": [],
   "source": []
  }
 ],
 "metadata": {
  "kernelspec": {
   "display_name": "Python 3",
   "language": "python",
   "name": "python3"
  },
  "language_info": {
   "codemirror_mode": {
    "name": "ipython",
    "version": 3
   },
   "file_extension": ".py",
   "mimetype": "text/x-python",
   "name": "python",
   "nbconvert_exporter": "python",
   "pygments_lexer": "ipython3",
   "version": "3.5.2"
  }
 },
 "nbformat": 4,
 "nbformat_minor": 0
}
